{
 "cells": [
  {
   "cell_type": "markdown",
   "id": "5591950e-6c8f-432e-8c69-fd65c714254e",
   "metadata": {},
   "source": [
    "# A4 Final Project"
   ]
  },
  {
   "cell_type": "markdown",
   "id": "bafaa3cf-1d51-4287-9899-11ead95f946f",
   "metadata": {},
   "source": [
    "## Abstract"
   ]
  },
  {
   "cell_type": "markdown",
   "id": "be99623a-51ae-4776-bbbf-96c7aca4ff0e",
   "metadata": {},
   "source": [
    "The following project matches Twitch streamer data with Google Trends search inquiries to understand what factors contribute to the frequency of searches for a Twitch channel, or a streamer's \"alias.\" Using the [Top Streamers on Twitch](https://www.kaggle.com/datasets/aayushmishra1512/twitchdata) and [Google Trends](https://trends.google.com/trends/?geo=US) datasets, this project first attempts to understand what data is provided and how to access the given data. Specifically, with the Google Trends dataset, an interest score is a value between 0 and 100 representing how frequently a keyword is searched within a week where 0 indicates no searches and 100 represents an extreme frequency of searches. The total cumulative interest score of ten streamer aliases are independently summed up to represent how frequently their alias was searched throughout the year 2020. This summed interest score is then compared to streamer insights including their follower base, viewership, total watch time by viewers, and total stream time. From the data, there is a weak negative correlation between a streamer's popularity and their interest score, meaning that the more popular a streamer is, the less interest score they have. In other words, the more followers or viewers a streamer has, the less often their alias is searched. However, higher interest scores do not represent more growth in streamers as there was no correlation to be found between interest scores and follower or viewer growth. In conclusion, frequency of searches and interest score do not increase with any factors of a streamer, nor do they influence the growth of a streamer, but a streamer's existing background does influence their interest score."
   ]
  },
  {
   "cell_type": "markdown",
   "id": "3556bf26-5235-4a84-9349-446bb2ac20ef",
   "metadata": {},
   "source": [
    "## Motivation and problem statement"
   ]
  },
  {
   "cell_type": "markdown",
   "id": "16ddaabe-d576-4383-a941-cd92979ec7db",
   "metadata": {},
   "source": [
    "I am planning on analyzing Twitch data and Google Trends to understand how users discover content and remain on a platform. I am interested in examining a synchronous platform such as Twitch and view how individuals find themselves engaged, specifically by continuing to view or return to a streamer. From a human-centered perspective, it will be interesting to attempt to learn what how our patterns vary in searches and watchtime, if determinable, though this may be difficult. From a scientific perspective, it may be useful to compare effort (in stream time) with results (of watch time) and gather insights around this. I'm hoping to learn more about how we discover synchronous platforms (exact search terms versus general), in this case a specific streamer's channel, and how engaged we stay on these platforms.\n",
    "\n",
    "Originally I planned to only examine one dataset, the Top Streamers on Twitch, but found that my goals and end result may be rather limited in this regard. My idea was not scoped much as I simply considered a potential dataset to explore. In speaking to a peer, I was pushed to consider the reasoning behind this data generally or how I might use this data to represent something, such as the significance viewership or watch time rather than simply comparing the Twitch data to itself. I later aimed to tie with another dataset which became the Google Trends data."
   ]
  },
  {
   "cell_type": "markdown",
   "id": "bd9aea92-0ee9-42ed-a0c2-bd80917e05b8",
   "metadata": {},
   "source": [
    "## Data selected for analysis"
   ]
  },
  {
   "cell_type": "markdown",
   "id": "093cf8e8-a797-41c2-b15c-582c3cf6cd9e",
   "metadata": {},
   "source": [
    "With the [Top Streamers on Twitch](https://www.kaggle.com/datasets/aayushmishra1512/twitchdata) and [Google Trends](https://trends.google.com/trends/?geo=US) data, I believe I have a strong set of large data to understand search patterns with watch times and viewer count to discern possible patterns. While there are many external factors in maintaining viewership, I believe there may be some correlation with search patterns and discovering, rediscovering, or simply routing to certain platforms. \n",
    "\n",
    "[Top Streamers on Twitch](https://www.kaggle.com/datasets/aayushmishra1512/twitchdata) contains a Twitch channel name, watch time, stream time, peak viewers, average viewers, followers, followers gained, views gained, whether a channel is partnered with Twitch, and if a channel is content-restricted being mature for those 18+. This data is scraped and represents this information over one year. This dataset is under the CC0: Public Domain license. The data can be used to draw connections with search queries to try and identify any patterns or correlations with values such as watch time, follower gain, or viewership. Usage of this dataset presents no ethical considerations in the context of this project but data may be limited or skewed by other factors such as viewbotting.\n",
    "\n",
    "[Google Trends](https://trends.google.com/trends/?geo=US) allows one to search for a search query such as Twitch or a channel name and returns information such as interest over time on a scale from 0 to 100, interest by subregion and location, related topics, and related search queries. Data is sortable by customizing time ranges which can match up with the year that the top streamers data was scraped and collected. When using Trends data, one must attribute the information to Google with a citation. For example, add \"Data source: Google Trends (https://www.google.com/trends).\" The data can be used to draw connections with Twitch stream data to understand if search queries have an effect on stream data. No ethical issues are foreseen in the context of this project."
   ]
  },
  {
   "cell_type": "markdown",
   "id": "9ce56af2-598c-47b2-8ac1-46733eabbd8f",
   "metadata": {},
   "source": [
    "## Unknowns and dependencies"
   ]
  },
  {
   "cell_type": "markdown",
   "id": "ffa66221-14d5-4434-bc86-ed88e9bd6d0a",
   "metadata": {},
   "source": [
    "With these datasets, I acknowledge the results of this project do not fully detail patterns as there are other variables not controlled such as type of stream, content, connectivity, or scheduling (for both viewers and streamers). In this regard, the results will likely be limited. While a minimum viable product detailing discoveries can be shared by the end of the quarter, it may not be fully flushed out due to the time constraint of four weeks. Additionally, these datasets are in CSV format only which means the data may not be as complex but is easy to read and process. Finally, the Twitch dataset heavily relies on Kaggle which may contain accurate or inaccurate information and as a result, reliability may be shaky and lead to hesitation about results. With this in mind, it is important to review the findings as potential patterns or correlation, but understand it may not be entirely accurate."
   ]
  },
  {
   "cell_type": "markdown",
   "id": "2cac368a-9278-4515-b21c-f1ea285d53b2",
   "metadata": {},
   "source": [
    "## Research questions"
   ]
  },
  {
   "cell_type": "markdown",
   "id": "338ef47e-c509-4530-be38-174ae001654e",
   "metadata": {},
   "source": [
    "#### How might search results impact watch times and viewer count of a streamer?"
   ]
  },
  {
   "cell_type": "markdown",
   "id": "0f368811-5aa1-47ff-9980-7b371a748f27",
   "metadata": {},
   "source": [
    "This question aims to investigate if search results a streamer's channel. This question begins by analyzing search results and identifying if there is a pattern between the results and viewership."
   ]
  },
  {
   "cell_type": "markdown",
   "id": "68e18ed9-cbc4-424b-bb9e-1b262891ee3c",
   "metadata": {},
   "source": [
    "#### What is the relationship between the popularity of a streamer and frequency of searches for their alias?"
   ]
  },
  {
   "cell_type": "markdown",
   "id": "65774742-07c0-4653-8cca-b2b76bb61798",
   "metadata": {},
   "source": [
    "While similar to the previous question, instead this question begins analyzing streamer popularity and attempts to map their popularity to search queries."
   ]
  },
  {
   "cell_type": "markdown",
   "id": "ac1f844d-a330-4900-a656-c242cf207363",
   "metadata": {},
   "source": [
    "#### How might the work of a streamer (time spent streaming) impact interest for that streamer?"
   ]
  },
  {
   "cell_type": "markdown",
   "id": "0f2469b9-4e3c-4442-be84-363229a9a45e",
   "metadata": {},
   "source": [
    "This question aims to understand if a streamers effort is related to how frequently they are searched."
   ]
  },
  {
   "cell_type": "markdown",
   "id": "4f09c2d1-8bf9-4796-a94f-fa0257ae0e10",
   "metadata": {},
   "source": [
    "## Background and Related Work"
   ]
  },
  {
   "cell_type": "markdown",
   "id": "b7875df5-8fa6-4c80-9227-e37f0390ee3d",
   "metadata": {},
   "source": [
    "Using the Twitch API, [Tomaz Bratanic has investigated streamers and their content](https://towardsdatascience.com/twitchverse-a-network-analysis-of-twitch-universe-using-neo4j-graph-data-science-d7218b4453ff). While not directly related to my analysis, there is helpful information around Twitch and streamers, who are a focal point of my analysis. This previous study helps set further foundation and context as I move forward."
   ]
  },
  {
   "cell_type": "markdown",
   "id": "60910a8e-0113-4a32-a9d8-36a87b5742e1",
   "metadata": {},
   "source": [
    "Using the same streamer dataset I will be examining, [Jagannath Pal has investigated the relationship between streamer data such as between streaming time and followers gained](https://www.kaggle.com/code/jagannathpal/twitch-streamer-analysis-eda-prediction#Exploratory-Data-Analysis) which are values I too am exploring. [Lander Iturregi](https://www.kaggle.com/code/landeriturregi/twitch-streamers-2020-data-analysis) has also performed some analysis around Twitch to identify top streamers and general population data about streamers. These explorations will allow me to narrow my scope into select streamers, demographics, or types of content that I wish to pursue within my explorations."
   ]
  },
  {
   "cell_type": "markdown",
   "id": "1a5ca112-1812-476e-96b5-43209988cb27",
   "metadata": {},
   "source": [
    "While there is not public analysis directly related to my investigation of choice, these previous explorations empower me to pursue certain streamers, for example Lander's analysis shows that Tfue, shroud, and Myth were the top three streamers with the most followers in 2020 and may be worth analyzing. Tomaz's analysis similarly shows Tfue and shroud, but instead of Myth his data supports that rubius was the third most followed streamer in 2021. Tomaz's exploration also breaks down various Twitch categories and shows the five most popular being Just Chatting, Resident Evil Village, Grand Theft Auto V, League of Legends, and Fortnite at the time of research. Understanding various streamers, their specialties, and their chosen games to broadcast is important in understanding whether or not search queries and viewership has a significant correlation."
   ]
  },
  {
   "cell_type": "markdown",
   "id": "823c96a0-78bc-4ede-8fa9-deb29346e608",
   "metadata": {},
   "source": [
    "Previous research primarily informs my exploration in helping me select data to analyze as clearly there are too many streamers to sort through and examine the Google search trends for all of them. As a result, I will narrow my scope in some of the larger, more well known streamers that will likely have search queries for them as their Twitch channel, or alias, is fairly known and show the most relevant results (for instance, \"Myth\" may be a word, but there is enough popularity where streamer results also appear)."
   ]
  },
  {
   "cell_type": "markdown",
   "id": "5817fce9-3697-4680-82e4-7cf0f8324f4e",
   "metadata": {},
   "source": [
    "## Methodology"
   ]
  },
  {
   "cell_type": "markdown",
   "id": "cbe22098-54cf-43c6-8f0e-ec62870db588",
   "metadata": {},
   "source": [
    "To begin investigating this data, I will narrow down to identify and select streamers and their aliases, or channel names, to work with. From this, I will then use the Google Trends dataset to view patterns of their alias being searched. I will also examine streamer data such as follower count and viewership for each alias."
   ]
  },
  {
   "cell_type": "markdown",
   "id": "d5ac8c16-e94d-4ca5-b660-0feb3fbec673",
   "metadata": {},
   "source": [
    "I plan to begin with an ordinary least squares regression to understand if there is a relationship between search queries and streamer popularity, where popularity may be defined as their follower count or viewership. I intend to examine both. This method allows me to identify if there is or is not a potential relationship between my variables before I dive deeper into what that relationship might be."
   ]
  },
  {
   "cell_type": "markdown",
   "id": "c6ed4d26-8f3b-477d-9ba0-0ae083907e7c",
   "metadata": {},
   "source": [
    "As I analyze my data, I will refer back to my research questions to understand if there are any clear answers and if there is further investigation needed. Depending on those findings, I may choose to gather more samples (more streamers), narrow my scope, or broaden my scope."
   ]
  },
  {
   "cell_type": "markdown",
   "id": "566bd29b-ead6-4965-a5e4-f71664377d57",
   "metadata": {},
   "source": [
    "Moving onwards, I will organize my findings in a table for visibility, but push towards data visualizations in the form of graphs or charts to showcase relationships or the lack of a relationship between my data. This will empower viewers to easily scan and comprehend my research findings. A simple table is helpful to view multiple datasets together, for instance multiple streamers with their search query trends, follower counts, and viewership. I could also showcase all of my streamer data in one graph, but this would be cluttered, noisy, and overall difficult to comprehend. As a result, I am to separate each streamer I analyze into a unique graph for data visualization that can showcase a potential relationship or lack of one."
   ]
  },
  {
   "cell_type": "markdown",
   "id": "540d234b-f7b6-42cf-841a-19bd0bc42d93",
   "metadata": {},
   "source": [
    "# Processing Data"
   ]
  },
  {
   "cell_type": "markdown",
   "id": "fdb27958-3075-4afa-a718-8aa678e3ddd0",
   "metadata": {},
   "source": [
    "Begin by importing the csv module for ease working with spreadsheet data"
   ]
  },
  {
   "cell_type": "code",
   "execution_count": 2,
   "id": "ea5ea9e3-f10d-41f1-9fa7-2f9c1193a292",
   "metadata": {},
   "outputs": [],
   "source": [
    "import csv"
   ]
  },
  {
   "cell_type": "markdown",
   "id": "e42e310c-dd67-4a54-9651-cc3d9c12fbb1",
   "metadata": {},
   "source": [
    "Afterwards, prepare a specified dataset by loading a tab-separated file and converting it into dictionaries for ease of use."
   ]
  },
  {
   "cell_type": "code",
   "execution_count": 3,
   "id": "2f5cfafe-f105-4a84-9b04-21956db1df5a",
   "metadata": {},
   "outputs": [],
   "source": [
    "def prepare_datasets(file_path):\n",
    "    \"\"\" \n",
    "    Accepts: path to a tab-separated plaintext file\n",
    "    Returns: a list containing a dictionary for every row in the file, \n",
    "        with the file column headers as keys\n",
    "    \"\"\"\n",
    "    \n",
    "    with open(file_path) as infile:\n",
    "        # because we are reading a csv rather than a tsv, we will use a comma for our delimiter rather than tabs\n",
    "        reader = csv.DictReader(infile, delimiter=',')\n",
    "        list_of_dicts = [dict(r) for r in reader]\n",
    "        \n",
    "    return list_of_dicts"
   ]
  },
  {
   "cell_type": "markdown",
   "id": "83fea96a-9222-4b5a-a4d0-95fa2ef21ae3",
   "metadata": {},
   "source": [
    "Now we may load our spreadsheet data and create a list of dictionaries before printing out the first few data values to check what data is provided."
   ]
  },
  {
   "cell_type": "code",
   "execution_count": 4,
   "id": "87fc12da-da64-4aeb-a4e6-e329efa99507",
   "metadata": {},
   "outputs": [
    {
     "name": "stdout",
     "output_type": "stream",
     "text": [
      "{'Channel': 'xQcOW', 'Watch time(Minutes)': '6196161750', 'Stream time(minutes)': '215250', 'Peak viewers': '222720', 'Average viewers': '27716', 'Followers': '3246298', 'Followers gained': '1734810', 'Views gained': '93036735', 'Partnered': 'True', 'Mature': 'False', 'Language': 'English'}\n",
      "{'Channel': 'summit1g', 'Watch time(Minutes)': '6091677300', 'Stream time(minutes)': '211845', 'Peak viewers': '310998', 'Average viewers': '25610', 'Followers': '5310163', 'Followers gained': '1370184', 'Views gained': '89705964', 'Partnered': 'True', 'Mature': 'False', 'Language': 'English'}\n",
      "{'Channel': 'Gaules', 'Watch time(Minutes)': '5644590915', 'Stream time(minutes)': '515280', 'Peak viewers': '387315', 'Average viewers': '10976', 'Followers': '1767635', 'Followers gained': '1023779', 'Views gained': '102611607', 'Partnered': 'True', 'Mature': 'True', 'Language': 'Portuguese'}\n",
      "1000\n"
     ]
    }
   ],
   "source": [
    "# load data from the Top Streamers on Twitch csv into a list of dictionaries\n",
    "top_twitchers = prepare_datasets(\"twitchdata-update.csv\")\n",
    "print(top_twitchers[0])\n",
    "print(top_twitchers[1])\n",
    "print(top_twitchers[2])\n",
    "print(len(top_twitchers))"
   ]
  },
  {
   "cell_type": "markdown",
   "id": "dd1d2566-772f-4749-86ff-d0f0da76553e",
   "metadata": {},
   "source": [
    "Great! It seems that each dictionary contains a channel name, watch time, stream time, peak viewers, average viewers, followers, followers gained, views gained, partnered, mature, and language.\n",
    "\n",
    "We also discovered this dataset counts the top 1000 streamers on Twitch as there are 1000 separate dictionaries."
   ]
  },
  {
   "cell_type": "markdown",
   "id": "3e4406d6-b35f-4a45-a8e6-572cac52889d",
   "metadata": {},
   "source": [
    "This Twitch data is from the year 2020, so I will adjust my Google Trends query in the same way to examine the full year of 2020. By typing the alias of the top streamer, xQcOW, and viewing trends throughout the full year of 2020, I am able to see a week by week breakdown in csv form."
   ]
  },
  {
   "cell_type": "markdown",
   "id": "71001ccf-8145-4319-a846-edd2cc263f9d",
   "metadata": {},
   "source": [
    "Here, it is important to note that Google Trends provvides an \"interest score\" rather than showcasing a value referencing the total number of search queries for the specified keyword. Google defines this interest score to \"represent search interest relative to the highest point on the chart for the given region and time. A value of 100 is the peak popularity for the term. A value of 50 means that the term is half as popular. A score of 0 means there was not enough data for this term.\""
   ]
  },
  {
   "cell_type": "markdown",
   "id": "81273590-a1f2-4013-90bd-571164163ad3",
   "metadata": {},
   "source": [
    "Let's examine the data for the top streamer in a similar fashion as above to understand what data we are provided."
   ]
  },
  {
   "cell_type": "markdown",
   "id": "d8d5986d-d743-4bc0-93ed-39533ba17831",
   "metadata": {},
   "source": [
    "## Comparing Twitch Data"
   ]
  },
  {
   "cell_type": "markdown",
   "id": "83a06b88-0e7d-42a8-9990-f6b38b16988b",
   "metadata": {},
   "source": [
    "For starters, we will begin analyzing simply the Twitch Streamer data to see if there is a correlation between stream time and streamer popularity."
   ]
  },
  {
   "cell_type": "code",
   "execution_count": 5,
   "id": "ff62df7a-8795-4740-aaa6-8e5406fb9bda",
   "metadata": {},
   "outputs": [
    {
     "name": "stdout",
     "output_type": "stream",
     "text": [
      "xQcOW streamed for 215250 minutes in the year 2020 and gained 1734810 followers and 93036735 views.\n"
     ]
    }
   ],
   "source": [
    "channel = top_twitchers[0][\"Channel\"]\n",
    "streamTime = top_twitchers[0][\"Stream time(minutes)\"]\n",
    "followGain = top_twitchers[0][\"Followers gained\"]\n",
    "viewGain = top_twitchers[0][\"Views gained\"]\n",
    "print(channel + \" streamed for \" + streamTime + \" minutes in the year 2020 and gained \" + followGain + \" followers and \" + viewGain + \" views.\")"
   ]
  },
  {
   "cell_type": "markdown",
   "id": "77ea7ae1-d44c-411a-967a-efcda1879e37",
   "metadata": {},
   "source": [
    "The above was simple enough to understand three keys and their values. Stream time indicates how much time the streamer was actively streaming, followers gained represents the amount of individuals who followed the streamer within the year 2020, and views gained represent the amount of views the streamer gained in 2020."
   ]
  },
  {
   "cell_type": "markdown",
   "id": "739b3b48-e8f8-4e57-856a-527a702a073e",
   "metadata": {},
   "source": [
    "By converting the stream time from minutes into other time lengths, we can better understand the frequency of streams."
   ]
  },
  {
   "cell_type": "code",
   "execution_count": 6,
   "id": "6bc2717f-7efe-4936-92af-6243d69ee6e3",
   "metadata": {},
   "outputs": [
    {
     "name": "stdout",
     "output_type": "stream",
     "text": [
      "xQcOW's total stream time was 3587.5 hours which is also 149.47916666666666 days or 21.354166666666664 weeks.\n"
     ]
    }
   ],
   "source": [
    "hours = int(streamTime) / 60\n",
    "days = hours / 24\n",
    "weeks = days / 7\n",
    "\n",
    "print(channel + \"'s total stream time was \" + str(hours) + \" hours which is also \" + str(days) + \" days or \" + str(weeks) + \" weeks.\")"
   ]
  },
  {
   "cell_type": "markdown",
   "id": "dcb0f062-1890-40e0-a66b-623fb783ea6c",
   "metadata": {},
   "source": [
    "## Understanding Google Trends"
   ]
  },
  {
   "cell_type": "code",
   "execution_count": 22,
   "id": "b0e68db4-530f-45fa-9e13-43f3aa96b13f",
   "metadata": {},
   "outputs": [
    {
     "name": "stdout",
     "output_type": "stream",
     "text": [
      "{'Category: All categories': 'Week', None: ['xqcow: (United States)']}\n",
      "{'Category: All categories': '2020-01-05', None: ['18']}\n",
      "{'Category: All categories': '2020-01-12', None: ['35']}\n"
     ]
    }
   ],
   "source": [
    "# Streamer 1\n",
    "# load data from the Google Trends search query into a list of dictionaries\n",
    "xqcow = prepare_datasets(\"xqcow2020.csv\")\n",
    "print(xqcow[0])\n",
    "print(xqcow[1])\n",
    "print(xqcow[2])"
   ]
  },
  {
   "cell_type": "markdown",
   "id": "c3a4d899-c907-4d5d-a435-7e34fb4cb75d",
   "metadata": {},
   "source": [
    "Let's try to understand this data as it looks finicky and unorganized. The 'Category: All categories' is a key that includes what type of search we want, for example a car or an animal when searching for the term \"jaguar.\" For this project, category will not be relevant as our streamer aliases will be under all categories. Next, 'Week' is actually a value corresponding to the 'Category: All categories' key. 'Week' shows the start day of each week, beginning on a Sunday and ending on the Saturday, spanning over 7 days. Finally, a strange term represented by 'None.' is a value refers to the interest score that Google Trends has provided."
   ]
  },
  {
   "cell_type": "markdown",
   "id": "33a2b356-f02b-40f8-a9f4-99eb44d233e4",
   "metadata": {},
   "source": [
    "To start, let us retrieve the week(s) corresponding to the highest interest score to determine which weeks Twitch data may be worthwhile to view. In order to do this, we must figure out how to access certain data so I will begin by understanding the dictionary keys and values."
   ]
  },
  {
   "cell_type": "code",
   "execution_count": 8,
   "id": "d4b3d8c3-96d0-42d6-a677-7397706e1088",
   "metadata": {},
   "outputs": [
    {
     "name": "stdout",
     "output_type": "stream",
     "text": [
      "Uncomment code to view responses from data.\n"
     ]
    }
   ],
   "source": [
    "print(\"Uncomment code to view responses from data.\")\n",
    "# for week in xqcow:\n",
    "    # print(week) # retrieve each weeks data\n",
    "    ## sample data: {'Category: All categories': '2020-01-05', None: ['24']}\n",
    "    \n",
    "    # print(week.get('Category: All categories')) # retrieve values of the key 'Category: All categories'\n",
    "    ## sample data: 2020-01-05\n",
    "    \n",
    "    # print(week.get('None')) # attempt to retrieve values of \"'None'\" which does not exist\n",
    "    ## sample data: None \n",
    "    \n",
    "    # print(week.keys()) # retrieve all the keys in each week\n",
    "    ## sample data: dict_keys(['Category: All categories', None])\n",
    "\n",
    "    # print(week.values()) # retrieve all the values in each week\n",
    "    ## sample data: dict_values(['2020-01-05', ['24']])\n",
    "\n",
    "    # print(week.get(None)) # retrieve the values of 'None,' which are the interest scores\n",
    "    ## sample data: ['24']"
   ]
  },
  {
   "cell_type": "markdown",
   "id": "05b76d84-308b-4c8f-afe0-8997c7eeaa77",
   "metadata": {},
   "source": [
    "Great! We can access both the week and interest score by retrieving the values in each week. We can also access each value individually by getting the values of \"'Category: all categories'\" or \"None.\" It is important to know that the key to retrieve a date includes quote marks whereas the key to retrieve interest scores does not."
   ]
  },
  {
   "cell_type": "markdown",
   "id": "775e3375-2e0f-4eb1-99e8-b1e421005204",
   "metadata": {},
   "source": [
    "It also seems we must move past the first list value as it has a format dissimilar than the others. We can do that by starting our index at 1 rather than the default 0."
   ]
  },
  {
   "cell_type": "markdown",
   "id": "57fc80c5-512b-4674-9167-01f0e3c064f5",
   "metadata": {},
   "source": [
    "## Determining highest interest score with the corresponding week for that score"
   ]
  },
  {
   "cell_type": "code",
   "execution_count": 9,
   "id": "31489fa7-e9e9-4402-a640-da092325bd6d",
   "metadata": {},
   "outputs": [
    {
     "name": "stdout",
     "output_type": "stream",
     "text": [
      "There was an interest score of 100 during week 45.\n"
     ]
    }
   ],
   "source": [
    "# set counter variable\n",
    "weekCount = 0;\n",
    "# set variable to contain highest interest score and the week corresponding to that score\n",
    "interestScore = 0;\n",
    "interestScoreWeek = 0;\n",
    "\n",
    "for week in xqcow[1:]: # start index at 1 rather than 0 to avoid the dissimilar data\n",
    "    # retrieve the actual value, converted to an integer within each interest score because each interest score is a list containing one number\n",
    "    weeklyScore = int(week.get(None)[0])\n",
    "    if weeklyScore >= interestScore:\n",
    "        # first check for duplicates and print them out when they happen for awareness\n",
    "        if interestScore == weeklyScore:\n",
    "            print(\"There was an interest score of \" + str(interestScore) + \" during weeks \" + str(interestScoreWeek) + \" and \" + str(weekCount) + \".\")\n",
    "        interestScore = weeklyScore\n",
    "        interestScoreWeek = weekCount\n",
    "    weekCount += 1\n",
    "    \n",
    "print(\"There was an interest score of \" + str(interestScore) + \" during week \" + str(interestScoreWeek) + \".\")"
   ]
  },
  {
   "cell_type": "markdown",
   "id": "c83a5c68-3554-4cd5-bfef-9df793c11370",
   "metadata": {},
   "source": [
    "Amazing, now we have found the highest interest score and the week corresponding to that score. We must then convert this week to the right date to look at. This can be simply done by taking the index of the week plus one, where the plus one accounts for the dissimilar data in row one, and retrieving the value of the week key (represented by 'Category: All categories')."
   ]
  },
  {
   "cell_type": "code",
   "execution_count": 10,
   "id": "3e012b46-97ec-4709-8caf-4fbf0fef2eaa",
   "metadata": {},
   "outputs": [
    {
     "name": "stdout",
     "output_type": "stream",
     "text": [
      "2020-11-15\n"
     ]
    }
   ],
   "source": [
    "print(xqcow[46:47][0].get('Category: All categories'))"
   ]
  },
  {
   "cell_type": "markdown",
   "id": "e0767ca4-b150-4893-806b-f91c39dd6136",
   "metadata": {},
   "source": [
    "Now that we have determined a date to examine, we may keep this date in mind when assessing Twitch Streamer data. However, after further review I realize that this dataset is limited as it is a cumulative sum throughout the year. The above work is not completely irrelevant however, as I was able to learn more about my datasets, how to interact with them, and also determine limitations such as this one."
   ]
  },
  {
   "cell_type": "markdown",
   "id": "2224e3db-bb40-4331-8494-15d8073ba32a",
   "metadata": {},
   "source": [
    "## Summing interest scores throughout the year"
   ]
  },
  {
   "cell_type": "markdown",
   "id": "4c6f9375-aef2-4ef9-933c-740ff831a1d0",
   "metadata": {},
   "source": [
    "After I realize that the Twitch Streamers data was not divided by weeks, but rather a cumulative sum throughout the year, I acknowledge a need for change. I will now redirect my focus to summing the interest score of a streamer's alias throughout the entire year and comparing this to their stats to understand if there exists a relationship between interest score and streamer popularity. A streamer's cumulative interest score shows how often their alias was searched throughout the year and this will be useful in comparisons and finding patterns."
   ]
  },
  {
   "cell_type": "code",
   "execution_count": 12,
   "id": "da6b2296-0888-4788-841a-8ca5782d91c1",
   "metadata": {},
   "outputs": [
    {
     "name": "stdout",
     "output_type": "stream",
     "text": [
      "xQcOW had a interest score sum of 2170 throughout the year 2020.\n"
     ]
    }
   ],
   "source": [
    "totalScore = 0\n",
    "for week in xqcow[1:]:\n",
    "    weeklyScore = int(week.get(None)[0])\n",
    "    totalScore += weeklyScore\n",
    "    \n",
    "print(\"xQcOW had a interest score sum of \" + str(totalScore) + \" throughout the year 2020.\")"
   ]
  },
  {
   "cell_type": "code",
   "execution_count": 157,
   "id": "b0226b05-ca6e-49bf-9b88-011f3e164189",
   "metadata": {},
   "outputs": [
    {
     "name": "stdout",
     "output_type": "stream",
     "text": [
      "dict_keys(['Channel', 'Watch time(Minutes)', 'Stream time(minutes)', 'Peak viewers', 'Average viewers', 'Followers', 'Followers gained', 'Views gained', 'Partnered', 'Mature', 'Language'])\n",
      "xQcOW\n"
     ]
    }
   ],
   "source": [
    "print(top_twitchers[0].keys())\n",
    "print(top_twitchers[0][\"Channel\"])"
   ]
  },
  {
   "cell_type": "markdown",
   "id": "e9f1a836-a6cf-44dc-b4e6-5004ddc47dd1",
   "metadata": {},
   "source": [
    "## Mimic above for other streamers"
   ]
  },
  {
   "cell_type": "markdown",
   "id": "a81d60cd-cbe2-48ff-8f83-f89bcbcb45fa",
   "metadata": {},
   "source": [
    "While the above could be automated for efficiency, I want to view the top 10 streamers, one at a time to see if there are discrepancies that persuade me to dive deeper."
   ]
  },
  {
   "cell_type": "code",
   "execution_count": 16,
   "id": "e8c7bb8b-0daf-4b67-bdfc-717ceeeaab62",
   "metadata": {},
   "outputs": [
    {
     "name": "stdout",
     "output_type": "stream",
     "text": [
      "summit1g had a interest score sum of 1496 throughout the year 2020.\n"
     ]
    }
   ],
   "source": [
    "# Streamer 2\n",
    "summit1g = prepare_datasets(\"summit1g2020.csv\")\n",
    "\n",
    "totalScore = 0\n",
    "for week in summit1g[1:]:\n",
    "    weeklyScore = int(week.get(None)[0])\n",
    "    totalScore += weeklyScore\n",
    "    \n",
    "print(\"summit1g had a interest score sum of \" + str(totalScore) + \" throughout the year 2020.\")"
   ]
  },
  {
   "cell_type": "code",
   "execution_count": 18,
   "id": "39b87b65-5d80-4ca1-8708-a17f9b0e110b",
   "metadata": {},
   "outputs": [
    {
     "name": "stdout",
     "output_type": "stream",
     "text": [
      "Gaules had a interest score sum of 1248 throughout the year 2020.\n"
     ]
    }
   ],
   "source": [
    "# Streamer 3\n",
    "gaules = prepare_datasets(\"gaules2020.csv\")\n",
    "\n",
    "totalScore = 0\n",
    "for week in gaules[1:]:\n",
    "    weeklyScore = int(week.get(None)[0])\n",
    "    totalScore += weeklyScore\n",
    "    \n",
    "print(\"Gaules had a interest score sum of \" + str(totalScore) + \" throughout the year 2020.\")"
   ]
  },
  {
   "cell_type": "code",
   "execution_count": 19,
   "id": "f8667faa-33d0-419a-b424-288de74791e2",
   "metadata": {},
   "outputs": [
    {
     "name": "stdout",
     "output_type": "stream",
     "text": [
      "ESL_CSGO had a interest score sum of 430 throughout the year 2020.\n"
     ]
    }
   ],
   "source": [
    "# Streamer 4\n",
    "esl_csgo = prepare_datasets(\"esl_csgo2020.csv\")\n",
    "\n",
    "totalScore = 0\n",
    "for week in esl_csgo[1:]:\n",
    "    weeklyScore = int(week.get(None)[0])\n",
    "    totalScore += weeklyScore\n",
    "    \n",
    "print(\"ESL_CSGO had a interest score sum of \" + str(totalScore) + \" throughout the year 2020.\")"
   ]
  },
  {
   "cell_type": "code",
   "execution_count": 20,
   "id": "67e2bd3c-8877-4335-8e72-8d186a80b514",
   "metadata": {},
   "outputs": [
    {
     "name": "stdout",
     "output_type": "stream",
     "text": [
      "tfue had a interest score sum of 1683 throughout the year 2020.\n"
     ]
    }
   ],
   "source": [
    "# Streamer 5\n",
    "tfue = prepare_datasets(\"tfue2020.csv\")\n",
    "\n",
    "totalScore = 0\n",
    "for week in tfue[1:]:\n",
    "    weeklyScore = int(week.get(None)[0])\n",
    "    totalScore += weeklyScore\n",
    "    \n",
    "print(\"tfue had a interest score sum of \" + str(totalScore) + \" throughout the year 2020.\")"
   ]
  },
  {
   "cell_type": "code",
   "execution_count": 23,
   "id": "e13252f2-38d1-46bf-8f4a-d5336f340d81",
   "metadata": {},
   "outputs": [
    {
     "name": "stdout",
     "output_type": "stream",
     "text": [
      "Asmongold had a interest score sum of 2700 throughout the year 2020.\n"
     ]
    }
   ],
   "source": [
    "# Streamer 6\n",
    "asmongold = prepare_datasets(\"asmongold2020.csv\")\n",
    "\n",
    "totalScore = 0\n",
    "for week in asmongold[1:]:\n",
    "    weeklyScore = int(week.get(None)[0])\n",
    "    totalScore += weeklyScore\n",
    "    \n",
    "print(\"Asmongold had a interest score sum of \" + str(totalScore) + \" throughout the year 2020.\")"
   ]
  },
  {
   "cell_type": "code",
   "execution_count": 26,
   "id": "695b92d7-f403-4c8a-84af-433352f3ce32",
   "metadata": {},
   "outputs": [
    {
     "name": "stdout",
     "output_type": "stream",
     "text": [
      "NICKMERCS had a interest score sum of 2467 throughout the year 2020.\n"
     ]
    }
   ],
   "source": [
    "# Streamer 7\n",
    "nickmercs = prepare_datasets(\"nickmercs2020.csv\")\n",
    "\n",
    "totalScore = 0\n",
    "for week in nickmercs[1:]:\n",
    "    weeklyScore = int(week.get(None)[0])\n",
    "    totalScore += weeklyScore\n",
    "    \n",
    "print(\"NICKMERCS had a interest score sum of \" + str(totalScore) + \" throughout the year 2020.\")"
   ]
  },
  {
   "cell_type": "code",
   "execution_count": 27,
   "id": "d4729762-598e-41b4-a30b-76b5228fa68a",
   "metadata": {},
   "outputs": [
    {
     "name": "stdout",
     "output_type": "stream",
     "text": [
      "Fextralife had a interest score sum of 3487 throughout the year 2020.\n"
     ]
    }
   ],
   "source": [
    "# Streamer 8\n",
    "fextralife = prepare_datasets(\"fextralife2020.csv\")\n",
    "\n",
    "totalScore = 0\n",
    "for week in fextralife[1:]:\n",
    "    weeklyScore = int(week.get(None)[0])\n",
    "    totalScore += weeklyScore\n",
    "    \n",
    "print(\"Fextralife had a interest score sum of \" + str(totalScore) + \" throughout the year 2020.\")"
   ]
  },
  {
   "cell_type": "code",
   "execution_count": 21,
   "id": "9fb10b4b-6ff8-443e-bfd4-b168b1d1600e",
   "metadata": {},
   "outputs": [
    {
     "name": "stdout",
     "output_type": "stream",
     "text": [
      "loltyler1 had a interest score sum of 2014 throughout the year 2020.\n"
     ]
    }
   ],
   "source": [
    "# Streamer 9\n",
    "loltyler1 = prepare_datasets(\"loltyler12020.csv\")\n",
    "\n",
    "totalScore = 0\n",
    "for week in loltyler1[1:]:\n",
    "    weeklyScore = int(week.get(None)[0])\n",
    "    totalScore += weeklyScore\n",
    "    \n",
    "print(\"loltyler1 had a interest score sum of \" + str(totalScore) + \" throughout the year 2020.\")"
   ]
  },
  {
   "cell_type": "code",
   "execution_count": 28,
   "id": "30e3e7d3-83f6-4880-9d42-b04725d0ccef",
   "metadata": {},
   "outputs": [
    {
     "name": "stdout",
     "output_type": "stream",
     "text": [
      "Anomaly had a interest score sum of 3807 throughout the year 2020.\n"
     ]
    }
   ],
   "source": [
    "# Streamer 10\n",
    "anomaly = prepare_datasets(\"anomaly2020.csv\")\n",
    "\n",
    "totalScore = 0\n",
    "for week in anomaly[1:]:\n",
    "    weeklyScore = int(week.get(None)[0])\n",
    "    totalScore += weeklyScore\n",
    "    \n",
    "print(\"Anomaly had a interest score sum of \" + str(totalScore) + \" throughout the year 2020.\")"
   ]
  },
  {
   "cell_type": "markdown",
   "id": "3fbe838c-fb11-41aa-ad4a-6d3b2247b0f1",
   "metadata": {},
   "source": [
    "Now before visualizing this data, I can see that the cumulative interest scores are varying even as we move down top streamers."
   ]
  },
  {
   "cell_type": "markdown",
   "id": "2169e954-9644-4972-b3ed-ad535ccfa358",
   "metadata": {},
   "source": [
    "## Does interest score influence how increasingly popular a streamer grows throughout the year?"
   ]
  },
  {
   "cell_type": "markdown",
   "id": "8c53fb7f-e9fe-42d9-aaec-fc21ed829b07",
   "metadata": {},
   "source": [
    "#### How might search results impact watch times and viewer count of a streamer?\n",
    "Let's visualize how interest scores influenced the growth of a streamer using their gainage of followers and views."
   ]
  },
  {
   "attachments": {
    "cec62315-d971-4774-8ad6-cd95773ea002.png": {
     "image/png": "[encoded data removed]"
    }
   },
   "cell_type": "markdown",
   "id": "5f468307-0ef2-4fc4-8079-83827deb1036",
   "metadata": {},
   "source": [
    "![Followers gained vs. Interest Score.png](attachment:cec62315-d971-4774-8ad6-cd95773ea002.png)"
   ]
  },
  {
   "attachments": {
    "66e65aac-ecff-46a3-be83-3a55247bfcb1.png": {
     "image/png": "[encoded data removed]"
    }
   },
   "cell_type": "markdown",
   "id": "d9fb837b-54ef-4ff9-a199-2da1985534e1",
   "metadata": {},
   "source": [
    "![Views gained vs. Interest Score.png](attachment:66e65aac-ecff-46a3-be83-3a55247bfcb1.png)"
   ]
  },
  {
   "cell_type": "markdown",
   "id": "9674ead2-a9af-48db-a141-8826c53f225d",
   "metadata": {},
   "source": [
    "As we examine cumulative interest scores increasing, we can observe that there exists no real pattern of views or followers gained. As a result, using our sample data, we can attempt to conclude that the amount of search queries for a Twitch alias has no influence on their popularity gainage. While followers gained varied across all ten sample streamers, a majority of the follower gains were in the middle interest scores and exhibited no real pattern. With the exception of the second most popular streamer, popular being defined as having the most interest score and being searched most frequently, all of the streamers had a similar viewership gain.\n",
    "\n",
    "Examining the R2 coefficient, we can further conclude that there exists little to no correlation between interest score and popularity growth."
   ]
  },
  {
   "cell_type": "markdown",
   "id": "e53c4621-1689-4e41-b321-33ccca0a16f2",
   "metadata": {},
   "source": [
    "## Does a streamer's existing popularity influence their interest score?"
   ]
  },
  {
   "cell_type": "markdown",
   "id": "38ba7ef6-383c-41b7-aff3-96660f90ba3a",
   "metadata": {},
   "source": [
    "#### What is the relationship between the popularity of a streamer and frequency of searches for their alias?\n",
    "While interest score did not increase the growth rate of streamers in terms of their viewership and following, the frequency of searches for their alias may be influenced by their existing popularity. To better understand this, we will plot their pre-existing data including followers and viewers and compare it to their interest score."
   ]
  },
  {
   "attachments": {
    "2cb5e1ff-acf8-4c57-8a52-2afd21876694.png": {
     "image/png": "[encoded data removed]"
    }
   },
   "cell_type": "markdown",
   "id": "ab47bbec-270f-4f3e-8914-5adac8dfcc0b",
   "metadata": {},
   "source": [
    "![Interest Score vs. Followers.png](attachment:2cb5e1ff-acf8-4c57-8a52-2afd21876694.png)"
   ]
  },
  {
   "cell_type": "markdown",
   "id": "ef2aaf32-0e2e-48fc-bef7-014dc492a4fc",
   "metadata": {},
   "source": [
    "As seen in the above graph, the streamers with more existing followers did not necessarily have more interest score throughout the year. In fact, it seems that the less followers one had beforehand actually led to a higher interest score. The R2 value around 0.185 suggests there may be a weak negative correlation between the two variables and that as previous follower count increased, interest score decreased.\n",
    "\n",
    "One potential cause for this pattern may be that the streamers with less followers were discussed more often and led to more frequent searches. These streamers may have been growing or had certain moments that piqued viewer curiosity leading to searches around their alias. Obviously, we cannot conclude this cause and effect but this may explain some results. In the same way, it is likely popular streamers with high follower bases did not need to be looked up as often."
   ]
  },
  {
   "attachments": {
    "5b17fd23-19be-41fe-88b5-3b31f6df3954.png": {
     "image/png": "[encoded data removed]"
    }
   },
   "cell_type": "markdown",
   "id": "0838c8f4-9b1e-4390-973d-ac9040744fa5",
   "metadata": {},
   "source": [
    "![Interest Score vs. Peak viewers.png](attachment:5b17fd23-19be-41fe-88b5-3b31f6df3954.png)"
   ]
  },
  {
   "cell_type": "markdown",
   "id": "348c420d-9fe4-4cb2-9009-6465bef59ce2",
   "metadata": {},
   "source": [
    "The above graph displays a moderately negative correlation between peak viewers and interest score as represented by the R2 value above 0.5. As a streamer's peak viewership increased, their interest score seemingly decreased. Peak viewers is the maximum number of viewers one streamer had at one moment during the year.\n",
    "\n",
    "While this data does not conclusively establish any patterns or findings, it is reasonable to deduce that the higher viewership streamers as determined by their peak viewers, were well known enough to where their alias was not as frequently searched. In addition, they may draw in similar numbers as their peak. Conversely, those with lower peak viewers may be less known and potentially had a certain peak that intrigued users to search about their background as they do not necessarily draw these same numbers often."
   ]
  },
  {
   "attachments": {
    "c38eab8a-276f-47e7-b89f-e891bda5c76d.png": {
     "image/png": "[encoded data removed]"
    }
   },
   "cell_type": "markdown",
   "id": "a9cbf47c-c798-4ca3-a5ac-dd948ae0cd5e",
   "metadata": {},
   "source": [
    "![Interest Score vs. Watch time(Minutes).png](attachment:c38eab8a-276f-47e7-b89f-e891bda5c76d.png)"
   ]
  },
  {
   "cell_type": "markdown",
   "id": "9d2d30b1-bbde-48ff-b3cb-36dd00b2f028",
   "metadata": {},
   "source": [
    "Lastly, we examine the total watch time of a user's stream. This is the total amount of time all viewers spent watching a stream. In a similar fashion to the above data, we can see there's a negative correlation between watch time and interest score. The correlation is weak, but exists to a small extent as seen by the R2 value above 0.2.\n",
    "\n",
    "In a similar fashion to above, we can attempt to rationalize these findings. As a streamer had more watch time, their interest score decreased because they were well known enough and did not have as many search queries. In contrast, streamers with less watch time were searched more frequently. We may reason that this was to learn more about the streamer or access their stream, but cannot definitively conclude this."
   ]
  },
  {
   "cell_type": "markdown",
   "id": "b8eed9c2-1372-4990-9ff9-166ba6ccf5d4",
   "metadata": {},
   "source": [
    "## Does a streamer's effort, represented by time streaming, affect their interest score?"
   ]
  },
  {
   "cell_type": "markdown",
   "id": "a17aecf8-d06a-43bb-9451-c8094ee6e9a1",
   "metadata": {},
   "source": [
    "#### How might the work of a streamer (time spent streaming) impact interest for that streamer?\n",
    "Below we will examine a streamer's stream time, defined by the amount of time they spent streaming on Twitch for the year, and attempt to understand if their work hours influenced their interest score and how frequently they were searched."
   ]
  },
  {
   "attachments": {
    "35a67533-6aef-42a8-bb9d-82f17df8d55f.png": {
     "image/png": "[encoded data removed]"
    }
   },
   "cell_type": "markdown",
   "id": "0ecc24bc-f4ea-4e3d-8ee2-c574e5582a55",
   "metadata": {},
   "source": [
    "![Interest Score vs. Stream time(minutes).png](attachment:35a67533-6aef-42a8-bb9d-82f17df8d55f.png)"
   ]
  },
  {
   "cell_type": "markdown",
   "id": "048793b5-b7ef-427b-b6e4-3760d6fb5a50",
   "metadata": {},
   "source": [
    "Above is a chart that showcases a R2 coefficient greater than 0.5 to indicate that there is a moderately negative correlation between stream time and interest score. Similar to a streamer's existing popularity, we may attempt to conclude that the more time a streamer spent working (streaming), the less they were searched up because they were either better known or were more accessible on Twitch. Being more accessible on Twitch may mean their channels were able to be easily discovered and did not require a search to locate. This rationale makes sense because a streamer who streams more often will likely be seen more often and as a result, be more well known. Similarly, they may be streaming more often because they have existing interest in the form of followers and viewers. Again, however, we cannot accurately deduce all of this and we must consider this conclusion limited."
   ]
  },
  {
   "cell_type": "markdown",
   "id": "5796f799-9349-4890-821a-1c23f08b8301",
   "metadata": {},
   "source": [
    "## Conclusion"
   ]
  },
  {
   "cell_type": "markdown",
   "id": "2cbd9e49-c9a3-4dd4-b1a3-0f3dddc43d43",
   "metadata": {},
   "source": [
    "After examining the data, there are weak conclusions to draw. Not all of the data informed me about the relationship between a streamer's interest score and popularity, but there were elements that worked to support one another."
   ]
  },
  {
   "cell_type": "markdown",
   "id": "6b65468f-b3f3-49b1-ac24-46f5dd82ce78",
   "metadata": {},
   "source": [
    "Streamer growth did not get much influence, if any at all, from interest scores. Those who searched up streamer aliases did not contribute much to the streamer's viewership or follower base and this is reflected in the section **\"Does interest score influence how increasingly popular a streamer grows throughout the year?\"**"
   ]
  },
  {
   "cell_type": "markdown",
   "id": "ecb345c7-be8b-41a5-8d3a-a8a3778d7196",
   "metadata": {},
   "source": [
    "However, a streamer's existing popularity did impact their interest score. As seen in the section **\"Does a streamer's existing popularity influence their interest score?\"** the follower count, peak viewership, and watch time of a streamer led to a weak correlation with interest scores throughout the year. In other words, the more followers, higher viewership, and higher watch time of a streamer led to lower interest scores."
   ]
  },
  {
   "cell_type": "markdown",
   "id": "2bf24809-015a-4778-8a95-1a69043e4e9f",
   "metadata": {},
   "source": [
    "Lastly, the amount of effort a streamer exhibits, as determined by the amount of time they spend streaming, also influences their interest score. In section **\"Does a streamer's effort, represented by time streaming, affect their interest score?\"** we see that the more time streamed, the lower the interest score."
   ]
  },
  {
   "cell_type": "markdown",
   "id": "c40e57e4-c08f-4f81-a2f7-3d8c1740da83",
   "metadata": {},
   "source": [
    "My initial hypothesis was that the top streamers would have the most interest score. I expected a positive correlation as these streamers would be well known and searched up often. Instead, I found the opposite. The more popular streamers did not have as many searches and while there are many reasons, the main argument I can naturally rationalize is that these streamers are so popular that they are actually searched less often because of how well known they already are."
   ]
  }
 ],
 "metadata": {
  "kernelspec": {
   "display_name": "Python 3 (ipykernel)",
   "language": "python",
   "name": "python3"
  },
  "language_info": {
   "codemirror_mode": {
    "name": "ipython",
    "version": 3
   },
   "file_extension": ".py",
   "mimetype": "text/x-python",
   "name": "python",
   "nbconvert_exporter": "python",
   "pygments_lexer": "ipython3",
   "version": "3.9.7"
  }
 },
 "nbformat": 4,
 "nbformat_minor": 5
}
