{
 "cells": [
  {
   "cell_type": "markdown",
   "id": "5591950e-6c8f-432e-8c69-fd65c714254e",
   "metadata": {},
   "source": [
    "# A4 Final Project"
   ]
  },
  {
   "cell_type": "markdown",
   "id": "3556bf26-5235-4a84-9349-446bb2ac20ef",
   "metadata": {},
   "source": [
    "## Motivation and problem statement"
   ]
  },
  {
   "cell_type": "markdown",
   "id": "16ddaabe-d576-4383-a941-cd92979ec7db",
   "metadata": {},
   "source": [
    "I am planning on analyzing Twitch data and Google Trends to understand how users discover content and remain on a platform. I am interested in examining a synchronous platform such as Twitch and view how individuals find themselves engaged, specifically by continuing to view or return to a streamer. From a human-centered perspective, it will be interesting to attempt to learn what how our patterns vary in searches and watchtime, if determinable, though this may be difficult. From a scientific perspective, it may be useful to compare effort (in stream time) with results (of watch time) and gather insights around this. I'm hoping to learn more about how we discover synchronous platforms (exact search terms versus general), in this case a specific streamer's channel, and how engaged we stay on these platforms.\n",
    "\n",
    "Originally I planned to only examine one dataset, the Top Streamers on Twitch, but found that my goals and end result may be rather limited in this regard. My idea was not scoped much as I simply considered a potential dataset to explore. In speaking to a peer, I was pushed to consider the reasoning behind this data generally or how I might use this data to represent something, such as the significance viewership or watch time rather than simply comparing the Twitch data to itself. I later aimed to tie with another dataset which became the Google Trends data."
   ]
  },
  {
   "cell_type": "markdown",
   "id": "bd9aea92-0ee9-42ed-a0c2-bd80917e05b8",
   "metadata": {},
   "source": [
    "## Data selected for analysis"
   ]
  },
  {
   "cell_type": "markdown",
   "id": "093cf8e8-a797-41c2-b15c-582c3cf6cd9e",
   "metadata": {},
   "source": [
    "With the [Top Streamers on Twitch](https://www.kaggle.com/datasets/aayushmishra1512/twitchdata) and [Google Trends](https://trends.google.com/trends/?geo=US) data, I believe I have a strong set of large data to understand search patterns with watch times and viewer count to discern possible patterns. While there are many external factors in maintaining viewership, I believe there may be some correlation with search patterns and discovering, rediscovering, or simply routing to certain platforms. \n",
    "\n",
    "[Top Streamers on Twitch](https://www.kaggle.com/datasets/aayushmishra1512/twitchdata) contains a Twitch channel name, watch time, stream time, peak viewers, average viewers, followers, followers gained, views gained, whether a channel is partnered with Twitch, and if a channel is content-restricted being mature for those 18+. This data is scraped and represents this information over one year. This dataset is under the CC0: Public Domain license. The data can be used to draw connections with search queries to try and identify any patterns or correlations with values such as watch time, follower gain, or viewership. Usage of this dataset presents no ethical considerations in the context of this project but data may be limited or skewed by other factors such as viewbotting.\n",
    "\n",
    "[Google Trends](https://trends.google.com/trends/?geo=US) allows one to search for a search query such as Twitch or a channel name and returns information such as interest over time on a scale from 0 to 100, interest by subregion and location, related topics, and related search queries. Data is sortable by customizing time ranges which can match up with the year that the top streamers data was scraped and collected. When using Trends data, one must attribute the information to Google with a citation. For example, add \"Data source: Google Trends (https://www.google.com/trends).\" The data can be used to draw connections with Twitch stream data to understand if search queries have an effect on stream data. No ethical issues are foreseen in the context of this project."
   ]
  },
  {
   "cell_type": "markdown",
   "id": "9ce56af2-598c-47b2-8ac1-46733eabbd8f",
   "metadata": {},
   "source": [
    "## Unknowns and dependencies"
   ]
  },
  {
   "cell_type": "markdown",
   "id": "ffa66221-14d5-4434-bc86-ed88e9bd6d0a",
   "metadata": {},
   "source": [
    "With these datasets, I acknowledge the results of this project do not fully detail patterns as there are other variables not controlled such as type of stream, content, connectivity, or scheduling (for both viewers and streamers). In this regard, the results will likely be limited. While a minimum viable product detailing discoveries can be shared by the end of the quarter, it may not be fully flushed out due to the time constraint of four weeks. Additionally, these datasets are in CSV format only which means the data may not be as complex but is easy to read and process. Finally, the Twitch dataset heavily relies on Kaggle which may contain accurate or inaccurate information and as a result, reliability may be shaky and lead to hesitation about results. With this in mind, it is important to review the findings as potential patterns or correlation, but understand it may not be entirely accurate."
   ]
  },
  {
   "cell_type": "markdown",
   "id": "1fa081c8-e2ff-419d-b207-afb879964f71",
   "metadata": {},
   "source": [
    "."
   ]
  },
  {
   "cell_type": "markdown",
   "id": "2cac368a-9278-4515-b21c-f1ea285d53b2",
   "metadata": {},
   "source": [
    "## Research questions"
   ]
  },
  {
   "cell_type": "markdown",
   "id": "338ef47e-c509-4530-be38-174ae001654e",
   "metadata": {},
   "source": [
    "#### How might search results impact watch times and viewer count of a streamer?"
   ]
  },
  {
   "cell_type": "markdown",
   "id": "0f368811-5aa1-47ff-9980-7b371a748f27",
   "metadata": {},
   "source": [
    "This question aims to investigate if search results a streamer's channel. This question begins by analyzing search results and identifying if there is a pattern between the results and viewership."
   ]
  },
  {
   "cell_type": "markdown",
   "id": "68e18ed9-cbc4-424b-bb9e-1b262891ee3c",
   "metadata": {},
   "source": [
    "#### What is the relationship between the popularity of a streamer and frequency of searches for their alias?"
   ]
  },
  {
   "cell_type": "markdown",
   "id": "65774742-07c0-4653-8cca-b2b76bb61798",
   "metadata": {},
   "source": [
    "While similar to the previous question, instead this question begins analyzing streamer popularity and attempts to map their popularity to search queries."
   ]
  },
  {
   "cell_type": "markdown",
   "id": "ac1f844d-a330-4900-a656-c242cf207363",
   "metadata": {},
   "source": [
    "#### How might search results impact follower counts of a streamer?"
   ]
  },
  {
   "cell_type": "markdown",
   "id": "0f2469b9-4e3c-4442-be84-363229a9a45e",
   "metadata": {},
   "source": [
    "Again, similar to the first question, this question aims to understand how search results impact a streamer's channel, but more specifically if users choose to follow said streamer."
   ]
  },
  {
   "cell_type": "markdown",
   "id": "4f09c2d1-8bf9-4796-a94f-fa0257ae0e10",
   "metadata": {},
   "source": [
    "## Background and Related Work"
   ]
  },
  {
   "cell_type": "markdown",
   "id": "b7875df5-8fa6-4c80-9227-e37f0390ee3d",
   "metadata": {},
   "source": [
    "Using the Twitch API, [Tomaz Bratanic has investigated streamers and their content](https://towardsdatascience.com/twitchverse-a-network-analysis-of-twitch-universe-using-neo4j-graph-data-science-d7218b4453ff). While not directly related to my analysis, there is helpful information around Twitch and streamers, who are a focal point of my analysis. This previous study helps set further foundation and context as I move forward."
   ]
  },
  {
   "cell_type": "markdown",
   "id": "60910a8e-0113-4a32-a9d8-36a87b5742e1",
   "metadata": {},
   "source": [
    "Using the same streamer dataset I will be examining, [Jagannath Pal has investigated the relationship between streamer data such as between streaming time and followers gained](https://www.kaggle.com/code/jagannathpal/twitch-streamer-analysis-eda-prediction#Exploratory-Data-Analysis) which are values I too am exploring. [Lander Iturregi](https://www.kaggle.com/code/landeriturregi/twitch-streamers-2020-data-analysis) has also performed some analysis around Twitch to identify top streamers and general population data about streamers. These explorations will allow me to narrow my scope into select streamers, demographics, or types of content that I wish to pursue within my explorations."
   ]
  },
  {
   "cell_type": "markdown",
   "id": "1a5ca112-1812-476e-96b5-43209988cb27",
   "metadata": {},
   "source": [
    "While there is not public analysis directly related to my investigation of choice, these previous explorations empower me to pursue certain streamers, for example Lander's analysis shows that Tfue, shroud, and Myth were the top three streamers with the most followers in 2020 and may be worth analyzing. Tomaz's analysis similarly shows Tfue and shroud, but instead of Myth his data supports that rubius was the third most followed streamer in 2021. Tomaz's exploration also breaks down various Twitch categories and shows the five most popular being Just Chatting, Resident Evil Village, Grand Theft Auto V, League of Legends, and Fortnite at the time of research. Understanding various streamers, their specialties, and their chosen games to broadcast is important in understanding whether or not search queries and viewership has a significant correlation."
   ]
  },
  {
   "cell_type": "markdown",
   "id": "823c96a0-78bc-4ede-8fa9-deb29346e608",
   "metadata": {},
   "source": [
    "Previous research primarily informs my exploration in helping me select data to analyze as clearly there are too many streamers to sort through and examine the Google search trends for all of them. As a result, I will narrow my scope in some of the larger, more well known streamers that will likely have search queries for them as their Twitch channel, or alias, is fairly known and show the most relevant results (for instance, \"Myth\" may be a word, but there is enough popularity where streamer results also appear)."
   ]
  },
  {
   "cell_type": "markdown",
   "id": "5817fce9-3697-4680-82e4-7cf0f8324f4e",
   "metadata": {},
   "source": [
    "## Methodology"
   ]
  },
  {
   "cell_type": "markdown",
   "id": "cbe22098-54cf-43c6-8f0e-ec62870db588",
   "metadata": {},
   "source": [
    "To begin investigating this data, I will narrow down to identify and select streamers and their aliases, or channel names, to work with. From this, I will then use the Google Trends dataset to view patterns of their alias being searched. I will also examine streamer data such as follower count and viewership for each alias."
   ]
  },
  {
   "cell_type": "markdown",
   "id": "d5ac8c16-e94d-4ca5-b660-0feb3fbec673",
   "metadata": {},
   "source": [
    "I plan to begin with an ordinary least squares regression to understand if there is a relationship between search queries and streamer popularity, where popularity may be defined as their follower count or viewership. I intend to examine both. This method allows me to identify if there is or is not a potential relationship between my variables before I dive deeper into what that relationship might be."
   ]
  },
  {
   "cell_type": "markdown",
   "id": "c6ed4d26-8f3b-477d-9ba0-0ae083907e7c",
   "metadata": {},
   "source": [
    "As I analyze my data, I will refer back to my research questions to understand if there are any clear answers and if there is further investigation needed. Depending on those findings, I may choose to gather more samples (more streamers), narrow my scope, or broaden my scope."
   ]
  },
  {
   "cell_type": "markdown",
   "id": "566bd29b-ead6-4965-a5e4-f71664377d57",
   "metadata": {},
   "source": [
    "Moving onwards, I will organize my findings in a table for visibility, but push towards data visualizations in the form of graphs or charts to showcase relationships or the lack of a relationship between my data. This will empower viewers to easily scan and comprehend my research findings. A simple table is helpful to view multiple datasets together, for instance multiple streamers with their search query trends, follower counts, and viewership. I could also showcase all of my streamer data in one graph, but this would be cluttered, noisy, and overall difficult to comprehend. As a result, I am to separate each streamer I analyze into a unique graph for data visualization that can showcase a potential relationship or lack of one."
   ]
  },
  {
   "cell_type": "code",
   "execution_count": null,
   "id": "c6b16679-92a3-42c9-8824-7db2337d17ec",
   "metadata": {},
   "outputs": [],
   "source": []
  }
 ],
 "metadata": {
  "kernelspec": {
   "display_name": "Python 3 (ipykernel)",
   "language": "python",
   "name": "python3"
  },
  "language_info": {
   "codemirror_mode": {
    "name": "ipython",
    "version": 3
   },
   "file_extension": ".py",
   "mimetype": "text/x-python",
   "name": "python",
   "nbconvert_exporter": "python",
   "pygments_lexer": "ipython3",
   "version": "3.9.7"
  }
 },
 "nbformat": 4,
 "nbformat_minor": 5
}
